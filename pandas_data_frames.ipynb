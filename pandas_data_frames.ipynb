{
 "cells": [
  {
   "cell_type": "code",
   "execution_count": null,
   "id": "43f05f15",
   "metadata": {},
   "outputs": [],
   "source": [
    "import numpy as np\n",
    "import matplotlib.pyplot as plt\n",
    "import pandas as pd\n",
    "import seaborn as sns"
   ]
  },
  {
   "cell_type": "markdown",
   "id": "2e8cfa80",
   "metadata": {},
   "source": [
    "Construct a DataFrame from a dict whose values are all equal length lists"
   ]
  },
  {
   "cell_type": "code",
   "execution_count": null,
   "id": "7d06c5b1",
   "metadata": {},
   "outputs": [],
   "source": [
    "data = {\n",
    "    'state': ['Ohio', 'Ohio', 'Ohio', 'Nevada', 'Nevada', 'Nevada'],\n",
    "    'year': [2000, 2001, 2002, 2001, 2002, 2003],\n",
    "    'pop': [1.5, 1.7, 3.6, 2.4, 2.9, 3.2]\n",
    "}\n",
    "frame = pd.DataFrame(data)"
   ]
  },
  {
   "cell_type": "code",
   "execution_count": null,
   "id": "7d4e2fd2",
   "metadata": {},
   "outputs": [],
   "source": [
    "frame"
   ]
  },
  {
   "cell_type": "code",
   "execution_count": null,
   "id": "386c07a1",
   "metadata": {},
   "outputs": [],
   "source": [
    "frame.head()"
   ]
  },
  {
   "cell_type": "markdown",
   "id": "73e3a8a7",
   "metadata": {},
   "source": [
    "Specify both the data and a sequence a columns when constructing the DataFrame"
   ]
  },
  {
   "cell_type": "code",
   "execution_count": null,
   "id": "81ced125",
   "metadata": {},
   "outputs": [],
   "source": [
    "pd.DataFrame(data, columns=['year', 'state', 'pop'])"
   ]
  },
  {
   "cell_type": "markdown",
   "id": "f91d035d",
   "metadata": {},
   "source": [
    "Passing a column name not in the dictionary keys produces a columns of `NaN` values"
   ]
  },
  {
   "cell_type": "code",
   "execution_count": null,
   "id": "76944739",
   "metadata": {},
   "outputs": [],
   "source": [
    "frame2 = pd.DataFrame(data, columns=['year', 'state', 'pop', 'debt'],\n",
    "                      index=['one', 'two', 'three', 'four', 'five', 'six'])"
   ]
  },
  {
   "cell_type": "code",
   "execution_count": null,
   "id": "ad53136e",
   "metadata": {},
   "outputs": [],
   "source": [
    "frame2"
   ]
  },
  {
   "cell_type": "code",
   "execution_count": null,
   "id": "ba92e76d",
   "metadata": {},
   "outputs": [],
   "source": [
    "frame2.columns"
   ]
  },
  {
   "cell_type": "markdown",
   "id": "b1927724",
   "metadata": {},
   "source": [
    "A column in a DataFrame can be retrieved as a Series either by dict-like notation or by attribute."
   ]
  },
  {
   "cell_type": "code",
   "execution_count": null,
   "id": "19df6d45",
   "metadata": {},
   "outputs": [],
   "source": [
    "frame2['state']"
   ]
  },
  {
   "cell_type": "code",
   "execution_count": null,
   "id": "46790d49",
   "metadata": {},
   "outputs": [],
   "source": [
    "frame2.year"
   ]
  },
  {
   "cell_type": "markdown",
   "id": "c7bd4b3a",
   "metadata": {},
   "source": [
    "Rows can also be retrieved by position or name with the special `loc` attribute (much more on this later)"
   ]
  },
  {
   "cell_type": "code",
   "execution_count": null,
   "id": "cf27c359",
   "metadata": {},
   "outputs": [],
   "source": [
    "frame2.loc['three']"
   ]
  },
  {
   "cell_type": "markdown",
   "id": "bbb48066",
   "metadata": {},
   "source": [
    "Columns can be modified by assignment."
   ]
  },
  {
   "cell_type": "code",
   "execution_count": null,
   "id": "fbd32a19",
   "metadata": {},
   "outputs": [],
   "source": [
    "frame2['debt'] = 16.5"
   ]
  },
  {
   "cell_type": "code",
   "execution_count": null,
   "id": "7b2e3cb9",
   "metadata": {},
   "outputs": [],
   "source": [
    "frame2"
   ]
  },
  {
   "cell_type": "code",
   "execution_count": null,
   "id": "c5de7928",
   "metadata": {},
   "outputs": [],
   "source": [
    "frame2['debt'] = np.arange(6.)"
   ]
  },
  {
   "cell_type": "code",
   "execution_count": null,
   "id": "ca37f63d",
   "metadata": {},
   "outputs": [],
   "source": [
    "frame2"
   ]
  },
  {
   "cell_type": "code",
   "execution_count": null,
   "id": "c6211987",
   "metadata": {},
   "outputs": [],
   "source": [
    "val = pd.Series([-1.2, -1.5, -1.7], index=['two', 'four', 'five'])"
   ]
  },
  {
   "cell_type": "code",
   "execution_count": null,
   "id": "2eae5142",
   "metadata": {},
   "outputs": [],
   "source": [
    "frame2['debt'] = val"
   ]
  },
  {
   "cell_type": "code",
   "execution_count": null,
   "id": "6ba88d6d",
   "metadata": {},
   "outputs": [],
   "source": [
    "frame2"
   ]
  },
  {
   "cell_type": "markdown",
   "id": "be2198bc",
   "metadata": {},
   "source": [
    "Assigning a column that doesn't exist will create a new column. \n",
    "The `del` keyword will delete columns as with a `dict`."
   ]
  },
  {
   "cell_type": "code",
   "execution_count": null,
   "id": "5aa5d60b",
   "metadata": {},
   "outputs": [],
   "source": [
    "# Add a column of boolean values where the state column equals 'Ohio'\n",
    "frame2['eastern'] = frame2.state == 'Ohio'"
   ]
  },
  {
   "cell_type": "code",
   "execution_count": null,
   "id": "42f6aa41",
   "metadata": {},
   "outputs": [],
   "source": [
    "frame2"
   ]
  },
  {
   "cell_type": "code",
   "execution_count": null,
   "id": "bfafaf64",
   "metadata": {},
   "outputs": [],
   "source": [
    "# The `del` method can be used to remove this column\n",
    "del frame2['eastern']"
   ]
  },
  {
   "cell_type": "code",
   "execution_count": null,
   "id": "2d133e3f",
   "metadata": {},
   "outputs": [],
   "source": [
    "frame2.columns"
   ]
  },
  {
   "cell_type": "markdown",
   "id": "ed39bb81",
   "metadata": {},
   "source": [
    "Another common form of data is a nested `dict` of `dicts`."
   ]
  },
  {
   "cell_type": "code",
   "execution_count": null,
   "id": "1bc36385",
   "metadata": {},
   "outputs": [],
   "source": [
    "pop = {\n",
    "    'Nevada': {2001: 2.4, 2002: 2.9,},\n",
    "    'Ohio': {2000: 1.5, 2001: 1.7, 2002: 3.6},\n",
    "}"
   ]
  },
  {
   "cell_type": "markdown",
   "id": "783be9ad",
   "metadata": {},
   "source": [
    "If a `dict` of `dicts` is passed to the `DataFrame` constructor, \n",
    "`pandas` will interpret the outer `dict` keys as the columns\n",
    "and the inner keys as the row indices."
   ]
  },
  {
   "cell_type": "code",
   "execution_count": null,
   "id": "cede03ff",
   "metadata": {},
   "outputs": [],
   "source": [
    "frame3 = pd.DataFrame(pop)"
   ]
  },
  {
   "cell_type": "code",
   "execution_count": null,
   "id": "400e9627",
   "metadata": {},
   "outputs": [],
   "source": [
    "frame3"
   ]
  },
  {
   "cell_type": "markdown",
   "id": "6f878a0f",
   "metadata": {},
   "source": [
    "You can transpose the DataFrame (swap rows and columns) \n",
    "with similar syntax to a NumPy array"
   ]
  },
  {
   "cell_type": "code",
   "execution_count": null,
   "id": "03a4a777",
   "metadata": {},
   "outputs": [],
   "source": [
    "frame3.T"
   ]
  },
  {
   "cell_type": "markdown",
   "id": "cc5ac7aa",
   "metadata": {},
   "source": [
    "The keys in the inner `dict` are combined and sorted\n",
    "to form the index of the DataFrame result. However,\n",
    "if one supplies an index explicitly, `pandas`\n",
    "**does not** perform this combining and sorting."
   ]
  },
  {
   "cell_type": "code",
   "execution_count": null,
   "id": "0adb296d",
   "metadata": {},
   "outputs": [],
   "source": [
    "pd.DataFrame(pop, index=[2001, 2002, 2003])       "
   ]
  },
  {
   "cell_type": "markdown",
   "id": "c85a6cd7",
   "metadata": {},
   "source": [
    "Dicts of pandas Series are treated much the same way."
   ]
  },
  {
   "cell_type": "code",
   "execution_count": null,
   "id": "066c4974",
   "metadata": {},
   "outputs": [],
   "source": [
    "pdata = {\n",
    "    'Ohio': frame3['Ohio'][:-1],\n",
    "    'Nevada': frame3['Nevada'][:2],\n",
    "}"
   ]
  },
  {
   "cell_type": "code",
   "execution_count": null,
   "id": "ef7d3d87",
   "metadata": {},
   "outputs": [],
   "source": [
    "pd.DataFrame(pdata)"
   ]
  },
  {
   "cell_type": "code",
   "execution_count": null,
   "id": "05007c48",
   "metadata": {},
   "outputs": [],
   "source": [
    "frame3.index.name = 'year'\n",
    "frame3.columns.name = 'state'"
   ]
  },
  {
   "cell_type": "code",
   "execution_count": null,
   "id": "246bdda4",
   "metadata": {},
   "outputs": [],
   "source": [
    "frame3"
   ]
  },
  {
   "cell_type": "code",
   "execution_count": null,
   "id": "0fe7f925",
   "metadata": {},
   "outputs": [],
   "source": [
    "frame3.values"
   ]
  },
  {
   "cell_type": "code",
   "execution_count": null,
   "id": "f1027ca9",
   "metadata": {},
   "outputs": [],
   "source": [
    "frame2.values"
   ]
  },
  {
   "cell_type": "code",
   "execution_count": null,
   "id": "24d80d10",
   "metadata": {},
   "outputs": [],
   "source": []
  }
 ],
 "metadata": {
  "kernelspec": {
   "display_name": "Python 3",
   "language": "python",
   "name": "python3"
  },
  "language_info": {
   "codemirror_mode": {
    "name": "ipython",
    "version": 3
   },
   "file_extension": ".py",
   "mimetype": "text/x-python",
   "name": "python",
   "nbconvert_exporter": "python",
   "pygments_lexer": "ipython3",
   "version": "3.8.7"
  }
 },
 "nbformat": 4,
 "nbformat_minor": 5
}
